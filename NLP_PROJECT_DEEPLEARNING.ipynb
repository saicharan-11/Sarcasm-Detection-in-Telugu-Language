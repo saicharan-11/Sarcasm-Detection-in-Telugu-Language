{
 "cells": [
  {
   "cell_type": "code",
   "execution_count": 1,
   "id": "2df47ea7",
   "metadata": {},
   "outputs": [
    {
     "name": "stderr",
     "output_type": "stream",
     "text": [
      "C:\\Users\\pinup\\anaconda3\\lib\\site-packages\\numpy\\_distributor_init.py:30: UserWarning: loaded more than 1 DLL from .libs:\n",
      "C:\\Users\\pinup\\anaconda3\\lib\\site-packages\\numpy\\.libs\\libopenblas.PYQHXLVVQ7VESDPUVUADXEVJOBGHJPAY.gfortran-win_amd64.dll\n",
      "C:\\Users\\pinup\\anaconda3\\lib\\site-packages\\numpy\\.libs\\libopenblas.WCDJNK7YVMPZQ2ME2ZZHJJRJ3JIKNDB7.gfortran-win_amd64.dll\n",
      "  warnings.warn(\"loaded more than 1 DLL from .libs:\\n%s\" %\n"
     ]
    }
   ],
   "source": [
    "import sklearn\n",
    "import numpy as np\n",
    "import pickle\n",
    "import torch\n",
    "import torchvision\n",
    "import torch.nn as nn\n",
    "import torch.nn.functional as F\n",
    "import numpy as np\n",
    "import matplotlib.pyplot as plt\n",
    "import pandas as pd"
   ]
  },
  {
   "cell_type": "code",
   "execution_count": 2,
   "id": "a262b713",
   "metadata": {},
   "outputs": [],
   "source": [
    "import numpy as np\n",
    "import matplotlib.pyplot as plt\n",
    "import pandas as pd\n",
    "from torchvision.datasets import MNIST\n",
    "from torchvision.transforms import ToTensor\n",
    "from torchvision.utils import make_grid\n",
    "from torch.utils.data.dataloader import DataLoader\n",
    "from torch.utils.data import random_split\n",
    "import torch.optim as optim"
   ]
  },
  {
   "cell_type": "code",
   "execution_count": 3,
   "id": "98dc3a58",
   "metadata": {},
   "outputs": [],
   "source": [
    "data=pd.read_excel(r\"D:\\NLP_telugu_data\\sarcastic_sentences.xlsx\")\n",
    "data=data.dropna()\n",
    "data['Labels']=data['Labels'].replace(to_replace ='Normal question and sarcastic answer',value='Sarcastic')\n",
    "data['Labels']=data['Labels'].replace(to_replace ='Normal question and normal answer',value='Non-Sarcastic')"
   ]
  },
  {
   "cell_type": "code",
   "execution_count": 4,
   "id": "65c8de87",
   "metadata": {},
   "outputs": [
    {
     "data": {
      "text/html": [
       "<div>\n",
       "<style scoped>\n",
       "    .dataframe tbody tr th:only-of-type {\n",
       "        vertical-align: middle;\n",
       "    }\n",
       "\n",
       "    .dataframe tbody tr th {\n",
       "        vertical-align: top;\n",
       "    }\n",
       "\n",
       "    .dataframe thead th {\n",
       "        text-align: right;\n",
       "    }\n",
       "</style>\n",
       "<table border=\"1\" class=\"dataframe\">\n",
       "  <thead>\n",
       "    <tr style=\"text-align: right;\">\n",
       "      <th></th>\n",
       "      <th>Sentences</th>\n",
       "      <th>Labels</th>\n",
       "    </tr>\n",
       "  </thead>\n",
       "  <tbody>\n",
       "    <tr>\n",
       "      <th>0</th>\n",
       "      <td>బంగారం ఆఫీస్ నుండి ఇప్పుడే వచ్చావా? లేదు గంట అ...</td>\n",
       "      <td>Sarcastic</td>\n",
       "    </tr>\n",
       "    <tr>\n",
       "      <th>1</th>\n",
       "      <td>డాక్టర్ నిన్ను నాన్వెజ్ మానేయమన్నారుగా ఇంకా మా...</td>\n",
       "      <td>Sarcastic</td>\n",
       "    </tr>\n",
       "    <tr>\n",
       "      <th>2</th>\n",
       "      <td>అల్లుడు? ఏంటి మావయ్య. నిన్ను అడగాలంటే కోద్ధిగా...</td>\n",
       "      <td>Sarcastic</td>\n",
       "    </tr>\n",
       "    <tr>\n",
       "      <th>3</th>\n",
       "      <td>నీతో మాట్లాడాలి, కొంచెం టైమ్ ఇస్తావా? అయ్యో నా...</td>\n",
       "      <td>Sarcastic</td>\n",
       "    </tr>\n",
       "    <tr>\n",
       "      <th>4</th>\n",
       "      <td>కెప్టెన్, టైటానిక్ షిప్ ఇంకా ఏం స్టార్ట్ చేయలే...</td>\n",
       "      <td>Sarcastic</td>\n",
       "    </tr>\n",
       "  </tbody>\n",
       "</table>\n",
       "</div>"
      ],
      "text/plain": [
       "                                           Sentences     Labels\n",
       "0  బంగారం ఆఫీస్ నుండి ఇప్పుడే వచ్చావా? లేదు గంట అ...  Sarcastic\n",
       "1  డాక్టర్ నిన్ను నాన్వెజ్ మానేయమన్నారుగా ఇంకా మా...  Sarcastic\n",
       "2  అల్లుడు? ఏంటి మావయ్య. నిన్ను అడగాలంటే కోద్ధిగా...  Sarcastic\n",
       "3  నీతో మాట్లాడాలి, కొంచెం టైమ్ ఇస్తావా? అయ్యో నా...  Sarcastic\n",
       "4  కెప్టెన్, టైటానిక్ షిప్ ఇంకా ఏం స్టార్ట్ చేయలే...  Sarcastic"
      ]
     },
     "execution_count": 4,
     "metadata": {},
     "output_type": "execute_result"
    }
   ],
   "source": [
    "data.head()"
   ]
  },
  {
   "cell_type": "code",
   "execution_count": 5,
   "id": "ee18b271",
   "metadata": {},
   "outputs": [
    {
     "data": {
      "text/plain": [
       "1791"
      ]
     },
     "execution_count": 5,
     "metadata": {},
     "output_type": "execute_result"
    }
   ],
   "source": [
    "len(data['Sentences'])"
   ]
  },
  {
   "cell_type": "markdown",
   "id": "2ea47b02",
   "metadata": {},
   "source": [
    "# Removing Punctuations"
   ]
  },
  {
   "cell_type": "code",
   "execution_count": 6,
   "id": "c894fa6f",
   "metadata": {},
   "outputs": [],
   "source": [
    "punctuations = '''!()-[]{};:'\"+\\,<>.?/@#$%^&*_~0123456789'''\n",
    "rpunct=[]\n",
    "for i in data.Sentences:\n",
    "    no_punct = \" \"\n",
    "    for i in i:\n",
    "        if i not in punctuations:\n",
    "            no_punct=no_punct+i\n",
    "    rpunct.append(no_punct.strip())"
   ]
  },
  {
   "cell_type": "code",
   "execution_count": null,
   "id": "7326b325",
   "metadata": {},
   "outputs": [],
   "source": []
  },
  {
   "cell_type": "code",
   "execution_count": null,
   "id": "e22e8a80",
   "metadata": {},
   "outputs": [],
   "source": []
  },
  {
   "cell_type": "markdown",
   "id": "fce1b7b6",
   "metadata": {},
   "source": [
    "# Tokenization"
   ]
  },
  {
   "cell_type": "code",
   "execution_count": 7,
   "id": "81d13497",
   "metadata": {},
   "outputs": [],
   "source": [
    "tokens=[]\n",
    "for i in rpunct:\n",
    "    g=i.split()\n",
    "    tokens.append(g)"
   ]
  },
  {
   "cell_type": "code",
   "execution_count": null,
   "id": "dd33a083",
   "metadata": {},
   "outputs": [],
   "source": []
  },
  {
   "cell_type": "code",
   "execution_count": null,
   "id": "27d0f73d",
   "metadata": {},
   "outputs": [],
   "source": []
  },
  {
   "cell_type": "markdown",
   "id": "484bc850",
   "metadata": {},
   "source": [
    "# StopWords Removal"
   ]
  },
  {
   "cell_type": "code",
   "execution_count": 8,
   "id": "a1a9e8fd",
   "metadata": {},
   "outputs": [],
   "source": [
    "stop_words=open(r\"D:\\NLP_telugu_data\\telugu_stop_words.txt\",'r',encoding='utf-8')"
   ]
  },
  {
   "cell_type": "code",
   "execution_count": 9,
   "id": "1e12cfd2",
   "metadata": {},
   "outputs": [],
   "source": [
    "stop_words_list=[]\n",
    "for i in stop_words.readlines():\n",
    "    stop_words_list.append(i.strip())"
   ]
  },
  {
   "cell_type": "code",
   "execution_count": 10,
   "id": "94901315",
   "metadata": {},
   "outputs": [],
   "source": [
    "for i in tokens:\n",
    "    for j in i:\n",
    "        if j in stop_words_list:\n",
    "            i.remove(j)"
   ]
  },
  {
   "cell_type": "code",
   "execution_count": null,
   "id": "073a0118",
   "metadata": {},
   "outputs": [],
   "source": []
  },
  {
   "cell_type": "code",
   "execution_count": null,
   "id": "c86c1e93",
   "metadata": {},
   "outputs": [],
   "source": []
  },
  {
   "cell_type": "markdown",
   "id": "a705fc78",
   "metadata": {},
   "source": [
    "# POS TAGGED PICKLE FILES"
   ]
  },
  {
   "cell_type": "code",
   "execution_count": 11,
   "id": "05fc6839",
   "metadata": {},
   "outputs": [],
   "source": [
    "import pickle\n",
    "import pandas as pd\n",
    "import numpy as np"
   ]
  },
  {
   "cell_type": "code",
   "execution_count": 12,
   "id": "538e2401",
   "metadata": {},
   "outputs": [],
   "source": [
    "postags = pd.read_pickle(r'D:\\NLP_telugu_data\\postags.pkl')\n",
    "tokens = pd.read_pickle(r'D:\\NLP_telugu_data\\tokens.pkl')\n",
    "y = pd.read_pickle(r'D:\\NLP_telugu_data\\y.pkl')"
   ]
  },
  {
   "cell_type": "code",
   "execution_count": 13,
   "id": "87d3df43",
   "metadata": {},
   "outputs": [],
   "source": [
    "sremoved_sentences=[]\n",
    "\n",
    "for i in tokens:\n",
    "    st=' '.join(i)\n",
    "    sremoved_sentences.append(st)"
   ]
  },
  {
   "cell_type": "code",
   "execution_count": 14,
   "id": "472216fc",
   "metadata": {},
   "outputs": [
    {
     "data": {
      "text/plain": [
       "'బంగారం ఆఫీస్ నుండి ఇప్పుడే వచ్చావా లేదు గంట అయ్యింది బస్ స్టాండులో జామకాయలు అమ్మి వచ్చేటప్పటికి టైమ్ అయ్యింది'"
      ]
     },
     "execution_count": 14,
     "metadata": {},
     "output_type": "execute_result"
    }
   ],
   "source": [
    "sremoved_sentences[0]"
   ]
  },
  {
   "cell_type": "code",
   "execution_count": null,
   "id": "6d05c3ba",
   "metadata": {},
   "outputs": [],
   "source": []
  },
  {
   "cell_type": "code",
   "execution_count": null,
   "id": "b1b36acf",
   "metadata": {},
   "outputs": [],
   "source": []
  },
  {
   "cell_type": "markdown",
   "id": "277a1e69",
   "metadata": {},
   "source": [
    "# WORD2VEC"
   ]
  },
  {
   "cell_type": "code",
   "execution_count": null,
   "id": "92215222",
   "metadata": {},
   "outputs": [],
   "source": []
  },
  {
   "cell_type": "code",
   "execution_count": null,
   "id": "a7991ed3",
   "metadata": {},
   "outputs": [],
   "source": [
    "from gensim.test.utils import get_tmpfile\n",
    "from gensim.models import Word2Vec\n",
    "path = get_tmpfile(\"word2vec.model\")\n",
    "model = Word2Vec(tokens, window=5, min_count=1, workers=4)"
   ]
  },
  {
   "cell_type": "code",
   "execution_count": null,
   "id": "e1718b7f",
   "metadata": {},
   "outputs": [],
   "source": []
  },
  {
   "cell_type": "code",
   "execution_count": null,
   "id": "34d95936",
   "metadata": {},
   "outputs": [],
   "source": [
    "model.wv.vectors.shape"
   ]
  },
  {
   "cell_type": "code",
   "execution_count": null,
   "id": "996def05",
   "metadata": {},
   "outputs": [],
   "source": [
    "weights=model.wv.vectors"
   ]
  },
  {
   "cell_type": "code",
   "execution_count": null,
   "id": "c461d95b",
   "metadata": {},
   "outputs": [],
   "source": [
    "weights=torch.tensor(weights)"
   ]
  },
  {
   "cell_type": "code",
   "execution_count": null,
   "id": "6e248591",
   "metadata": {},
   "outputs": [],
   "source": [
    "model.wv.get_vector('బంగారం')"
   ]
  },
  {
   "cell_type": "code",
   "execution_count": null,
   "id": "5fb34b0c",
   "metadata": {},
   "outputs": [],
   "source": [
    "embedding=nn.Embedding.from_pretrained(weights)"
   ]
  },
  {
   "cell_type": "code",
   "execution_count": null,
   "id": "7552fd17",
   "metadata": {},
   "outputs": [],
   "source": []
  },
  {
   "cell_type": "code",
   "execution_count": null,
   "id": "dabdf774",
   "metadata": {},
   "outputs": [],
   "source": []
  },
  {
   "cell_type": "code",
   "execution_count": null,
   "id": "46e2a164",
   "metadata": {},
   "outputs": [],
   "source": []
  },
  {
   "cell_type": "code",
   "execution_count": null,
   "id": "c388d154",
   "metadata": {},
   "outputs": [],
   "source": []
  },
  {
   "cell_type": "code",
   "execution_count": null,
   "id": "ddefa981",
   "metadata": {},
   "outputs": [],
   "source": []
  },
  {
   "cell_type": "code",
   "execution_count": null,
   "id": "9b053289",
   "metadata": {},
   "outputs": [],
   "source": []
  },
  {
   "cell_type": "markdown",
   "id": "c7d9a40b",
   "metadata": {},
   "source": [
    "Pytorch Embedding"
   ]
  },
  {
   "cell_type": "markdown",
   "id": "530dad63",
   "metadata": {},
   "source": [
    "Loading the Dataset\n",
    "\n",
    "Preprocessing\n",
    "\n",
    "Tokenizing and Sampling\n",
    "\n",
    "Building Vocabulary\n",
    "\n",
    "Converting Data into Tensors\n",
    "\n",
    "Exercise: Obtaining Tensor Representation"
   ]
  },
  {
   "cell_type": "code",
   "execution_count": null,
   "id": "43d1d149",
   "metadata": {},
   "outputs": [],
   "source": []
  },
  {
   "cell_type": "code",
   "execution_count": null,
   "id": "d8f249d4",
   "metadata": {},
   "outputs": [],
   "source": []
  },
  {
   "cell_type": "code",
   "execution_count": null,
   "id": "01c94e8e",
   "metadata": {},
   "outputs": [],
   "source": []
  },
  {
   "cell_type": "code",
   "execution_count": 15,
   "id": "26c4b243",
   "metadata": {},
   "outputs": [],
   "source": [
    "wordtokens=[]\n",
    "for i in tokens:\n",
    "    for j in i:\n",
    "        wordtokens.append(j)"
   ]
  },
  {
   "cell_type": "code",
   "execution_count": 16,
   "id": "025b8fd9",
   "metadata": {},
   "outputs": [
    {
     "data": {
      "text/plain": [
       "30216"
      ]
     },
     "execution_count": 16,
     "metadata": {},
     "output_type": "execute_result"
    }
   ],
   "source": [
    "len(wordtokens)"
   ]
  },
  {
   "cell_type": "code",
   "execution_count": 17,
   "id": "8ab9292c",
   "metadata": {},
   "outputs": [],
   "source": [
    "from collections import Counter"
   ]
  },
  {
   "cell_type": "code",
   "execution_count": 18,
   "id": "30b6aedb",
   "metadata": {},
   "outputs": [],
   "source": [
    "vocab=Counter(wordtokens)"
   ]
  },
  {
   "cell_type": "code",
   "execution_count": 19,
   "id": "4eb37ac2",
   "metadata": {},
   "outputs": [],
   "source": [
    "vocab = sorted(vocab, key=vocab.get, reverse=True)\n",
    "vocab_size = len(vocab)+1"
   ]
  },
  {
   "cell_type": "code",
   "execution_count": 20,
   "id": "a8ecb7b3",
   "metadata": {},
   "outputs": [],
   "source": [
    "word2idx = {word: ind+1 for ind, word in enumerate(vocab)}"
   ]
  },
  {
   "cell_type": "code",
   "execution_count": null,
   "id": "794d6c5e",
   "metadata": {},
   "outputs": [],
   "source": []
  },
  {
   "cell_type": "code",
   "execution_count": 21,
   "id": "ddc01ad3",
   "metadata": {},
   "outputs": [],
   "source": [
    "encoded_sentences = []\n",
    "for i in tokens:\n",
    "    tmp=[]\n",
    "    for j in i:\n",
    "        tmp.append(word2idx[j])\n",
    "    encoded_sentences.append(tmp)"
   ]
  },
  {
   "cell_type": "code",
   "execution_count": 22,
   "id": "2130cd67",
   "metadata": {},
   "outputs": [],
   "source": [
    "c=[]\n",
    "for i in encoded_sentences:\n",
    "    c.append(len(i))"
   ]
  },
  {
   "cell_type": "code",
   "execution_count": 23,
   "id": "6ffc7f9c",
   "metadata": {},
   "outputs": [
    {
     "data": {
      "text/plain": [
       "1791"
      ]
     },
     "execution_count": 23,
     "metadata": {},
     "output_type": "execute_result"
    }
   ],
   "source": [
    "len(encoded_sentences)"
   ]
  },
  {
   "cell_type": "code",
   "execution_count": 24,
   "id": "e2deafee",
   "metadata": {},
   "outputs": [],
   "source": [
    "def seq_padding(encoded_sentences,max_len):\n",
    "    padded_sentences=[]\n",
    "    for sent in encoded_sentences:\n",
    "        if len(sent)>max_len:\n",
    "            padded_sentences.append(sent[:max_len])\n",
    "        elif len(sent)<max_len:\n",
    "            while len(sent)!=max_len:\n",
    "                sent.append(0)\n",
    "            padded_sentences.append(sent)\n",
    "        else:\n",
    "            padded_sentences.append(sent)\n",
    "    return padded_sentences"
   ]
  },
  {
   "cell_type": "code",
   "execution_count": null,
   "id": "aa335ff3",
   "metadata": {},
   "outputs": [],
   "source": []
  },
  {
   "cell_type": "code",
   "execution_count": 25,
   "id": "41a7fb70",
   "metadata": {},
   "outputs": [],
   "source": [
    "padded_sentences=seq_padding(encoded_sentences,15)"
   ]
  },
  {
   "cell_type": "code",
   "execution_count": 26,
   "id": "2777c5e6",
   "metadata": {},
   "outputs": [],
   "source": [
    "padded_sentences=torch.LongTensor(padded_sentences)"
   ]
  },
  {
   "cell_type": "code",
   "execution_count": 27,
   "id": "7bbf18d3",
   "metadata": {},
   "outputs": [
    {
     "data": {
      "text/plain": [
       "tensor([  25,   39, 1489, 2331,   55, 2332,    1,  650, 1490, 1491,  463, 4236,\n",
       "        4237, 2333,   76])"
      ]
     },
     "execution_count": 27,
     "metadata": {},
     "output_type": "execute_result"
    }
   ],
   "source": [
    "padded_sentences[1]"
   ]
  },
  {
   "cell_type": "code",
   "execution_count": 28,
   "id": "ec5ac274",
   "metadata": {},
   "outputs": [],
   "source": [
    "emd_dim=10"
   ]
  },
  {
   "cell_type": "code",
   "execution_count": 29,
   "id": "2f669af0",
   "metadata": {},
   "outputs": [],
   "source": [
    "emb_layer = nn.Embedding(vocab_size, emd_dim,padding_idx=0)\n",
    "word_vectors = emb_layer(padded_sentences[:10])"
   ]
  },
  {
   "cell_type": "code",
   "execution_count": 30,
   "id": "337ef42c",
   "metadata": {},
   "outputs": [],
   "source": [
    "input_sent=padded_sentences[:10].t()"
   ]
  },
  {
   "cell_type": "code",
   "execution_count": 31,
   "id": "870a797e",
   "metadata": {},
   "outputs": [
    {
     "data": {
      "text/plain": [
       "tensor([[ 163,   25,  114,  313, 4244,  397,   12,   12,  114,  560],\n",
       "        [ 185,   39,   26, 1060, 4245, 4249, 2339,    4,   26,   31],\n",
       "        [  40, 1489, 2334,  140, 4246,  346, 2340,  151, 2344, 1064],\n",
       "        [ 213, 2331,   39, 1059,   55, 4250,   33,  466, 2345, 2346],\n",
       "        [ 837,   55, 4238,  396,    4,   18,  838, 2341,    5,   14],\n",
       "        [   5, 2332, 4239,   94,  287, 4251,    1,  200,  314,  265],\n",
       "        [ 242,    1, 4240, 4241,  465,  186,  243, 1062,   67, 4259],\n",
       "        [ 229,  650,   33, 4242,    1, 4252,   35, 1063,   11,    1],\n",
       "        [1488, 1490,   13, 4243,   95, 2337, 1061, 4257, 1492,   36],\n",
       "        [4232, 1491,  199,    0, 4247, 4253,  839,    1,    8,  125],\n",
       "        [4233,  463, 2335,    0,   59,  288, 4256,    3,  467, 2347],\n",
       "        [4234, 4236, 2336,    0, 4248,   79,   40,  264, 4258,   70],\n",
       "        [4235, 4237,   83,    0,    0, 2338,    0,   21,    0,  651],\n",
       "        [1059, 2333,   89,    0,    0,    9,    0, 2342,    0,  152],\n",
       "        [ 229,   76,  464,    0,    0,  150,    0, 2343,    0,    0]])"
      ]
     },
     "execution_count": 31,
     "metadata": {},
     "output_type": "execute_result"
    }
   ],
   "source": [
    "input_sent"
   ]
  },
  {
   "cell_type": "code",
   "execution_count": 32,
   "id": "5939d192",
   "metadata": {},
   "outputs": [],
   "source": [
    "emb_layer = nn.Embedding(vocab_size, emd_dim)\n",
    "word_vectors = emb_layer(input_sent)\n",
    "rnn=nn.RNN(emd_dim,64)\n",
    "fc1=nn.Linear(64,32)\n",
    "fc2=nn.Linear(32,16)\n",
    "fc3=nn.Linear(16,2)"
   ]
  },
  {
   "cell_type": "code",
   "execution_count": 33,
   "id": "b680a856",
   "metadata": {},
   "outputs": [
    {
     "data": {
      "text/plain": [
       "torch.Size([15, 10, 10])"
      ]
     },
     "execution_count": 33,
     "metadata": {},
     "output_type": "execute_result"
    }
   ],
   "source": [
    "word_vectors.shape"
   ]
  },
  {
   "cell_type": "code",
   "execution_count": 34,
   "id": "b0f8f7ee",
   "metadata": {},
   "outputs": [],
   "source": [
    "hidden=torch.zeros((1, 10, 64))"
   ]
  },
  {
   "cell_type": "code",
   "execution_count": 35,
   "id": "c76c703e",
   "metadata": {},
   "outputs": [],
   "source": [
    "out,hidden_out=rnn(word_vectors,hidden)"
   ]
  },
  {
   "cell_type": "code",
   "execution_count": 36,
   "id": "b0fd0772",
   "metadata": {},
   "outputs": [
    {
     "data": {
      "text/plain": [
       "torch.Size([15, 10, 10])"
      ]
     },
     "execution_count": 36,
     "metadata": {},
     "output_type": "execute_result"
    }
   ],
   "source": [
    "word_vectors.shape"
   ]
  },
  {
   "cell_type": "code",
   "execution_count": 37,
   "id": "e4e1a076",
   "metadata": {},
   "outputs": [
    {
     "data": {
      "text/plain": [
       "torch.Size([15, 10, 64])"
      ]
     },
     "execution_count": 37,
     "metadata": {},
     "output_type": "execute_result"
    }
   ],
   "source": [
    "out.shape"
   ]
  },
  {
   "cell_type": "code",
   "execution_count": null,
   "id": "1fc1a8d2",
   "metadata": {},
   "outputs": [],
   "source": []
  },
  {
   "cell_type": "code",
   "execution_count": null,
   "id": "224c57b1",
   "metadata": {},
   "outputs": [],
   "source": []
  },
  {
   "cell_type": "code",
   "execution_count": 38,
   "id": "006cc679",
   "metadata": {},
   "outputs": [
    {
     "data": {
      "text/plain": [
       "torch.Size([1, 10, 64])"
      ]
     },
     "execution_count": 38,
     "metadata": {},
     "output_type": "execute_result"
    }
   ],
   "source": [
    "hidden_out.shape"
   ]
  },
  {
   "cell_type": "code",
   "execution_count": 39,
   "id": "86be7a6f",
   "metadata": {},
   "outputs": [
    {
     "data": {
      "text/plain": [
       "torch.Size([15, 10, 64])"
      ]
     },
     "execution_count": 39,
     "metadata": {},
     "output_type": "execute_result"
    }
   ],
   "source": [
    "out.shape"
   ]
  },
  {
   "cell_type": "code",
   "execution_count": 40,
   "id": "67d0dd10",
   "metadata": {},
   "outputs": [],
   "source": [
    "out=fc1(out[-1,:,:])\n",
    "out=fc2(out)\n",
    "out=fc3(out)"
   ]
  },
  {
   "cell_type": "code",
   "execution_count": 41,
   "id": "0e95027b",
   "metadata": {},
   "outputs": [
    {
     "data": {
      "text/plain": [
       "tensor([[ 0.0985, -0.2807],\n",
       "        [ 0.0860, -0.2553],\n",
       "        [ 0.0515, -0.3734],\n",
       "        [ 0.0600, -0.2668],\n",
       "        [ 0.0638, -0.2480],\n",
       "        [ 0.0702, -0.2775],\n",
       "        [ 0.0635, -0.2756],\n",
       "        [ 0.1179, -0.2593],\n",
       "        [ 0.0611, -0.2733],\n",
       "        [ 0.1165, -0.1908]], grad_fn=<AddmmBackward>)"
      ]
     },
     "execution_count": 41,
     "metadata": {},
     "output_type": "execute_result"
    }
   ],
   "source": [
    "out"
   ]
  },
  {
   "cell_type": "code",
   "execution_count": 42,
   "id": "87da78a5",
   "metadata": {},
   "outputs": [
    {
     "name": "stderr",
     "output_type": "stream",
     "text": [
      "C:\\Users\\pinup\\anaconda3\\lib\\site-packages\\torch\\nn\\functional.py:1805: UserWarning: nn.functional.sigmoid is deprecated. Use torch.sigmoid instead.\n",
      "  warnings.warn(\"nn.functional.sigmoid is deprecated. Use torch.sigmoid instead.\")\n"
     ]
    }
   ],
   "source": [
    "out=F.sigmoid(out)"
   ]
  },
  {
   "cell_type": "code",
   "execution_count": 43,
   "id": "7cbf295e",
   "metadata": {},
   "outputs": [
    {
     "data": {
      "text/plain": [
       "tensor([[0.5246, 0.4303],\n",
       "        [0.5215, 0.4365],\n",
       "        [0.5129, 0.4077],\n",
       "        [0.5150, 0.4337],\n",
       "        [0.5159, 0.4383],\n",
       "        [0.5175, 0.4311],\n",
       "        [0.5159, 0.4315],\n",
       "        [0.5294, 0.4355],\n",
       "        [0.5153, 0.4321],\n",
       "        [0.5291, 0.4525]], grad_fn=<SigmoidBackward>)"
      ]
     },
     "execution_count": 43,
     "metadata": {},
     "output_type": "execute_result"
    }
   ],
   "source": [
    "out"
   ]
  },
  {
   "cell_type": "code",
   "execution_count": 44,
   "id": "99d06e25",
   "metadata": {},
   "outputs": [],
   "source": [
    "temp_y=[1,0]"
   ]
  },
  {
   "cell_type": "code",
   "execution_count": 46,
   "id": "5bcf7fb7",
   "metadata": {},
   "outputs": [],
   "source": [
    "temp_y=torch.tensor(temp_y)"
   ]
  },
  {
   "cell_type": "code",
   "execution_count": 47,
   "id": "a9d5ed81",
   "metadata": {},
   "outputs": [],
   "source": [
    "loss=F.cross_entropy"
   ]
  },
  {
   "cell_type": "code",
   "execution_count": 48,
   "id": "f2763368",
   "metadata": {},
   "outputs": [
    {
     "data": {
      "text/plain": [
       "tensor([1, 1, 1, 1, 1, 1, 1, 1, 1, 1])"
      ]
     },
     "execution_count": 48,
     "metadata": {},
     "output_type": "execute_result"
    }
   ],
   "source": [
    "torch.tensor(y[0:10])"
   ]
  },
  {
   "cell_type": "code",
   "execution_count": 49,
   "id": "09ccb69f",
   "metadata": {},
   "outputs": [],
   "source": [
    "lossy=loss(out,torch.tensor(y[0:10]))"
   ]
  },
  {
   "cell_type": "code",
   "execution_count": 50,
   "id": "15ee5b54",
   "metadata": {},
   "outputs": [
    {
     "data": {
      "text/plain": [
       "tensor(0.7375, grad_fn=<NllLossBackward>)"
      ]
     },
     "execution_count": 50,
     "metadata": {},
     "output_type": "execute_result"
    }
   ],
   "source": [
    "lossy"
   ]
  },
  {
   "cell_type": "code",
   "execution_count": null,
   "id": "ec453f09",
   "metadata": {},
   "outputs": [],
   "source": []
  },
  {
   "cell_type": "code",
   "execution_count": null,
   "id": "5d4eb846",
   "metadata": {},
   "outputs": [],
   "source": [
    "y=torch.tensor(y)"
   ]
  },
  {
   "cell_type": "markdown",
   "id": "3c12254a",
   "metadata": {},
   "source": [
    "# Model"
   ]
  },
  {
   "cell_type": "code",
   "execution_count": null,
   "id": "d5b3fb55",
   "metadata": {},
   "outputs": [],
   "source": []
  },
  {
   "cell_type": "code",
   "execution_count": 51,
   "id": "6e449016",
   "metadata": {},
   "outputs": [],
   "source": [
    "from sklearn.model_selection import train_test_split\n",
    "X_train,X_test,y_train,y_test=train_test_split(padded_sentences,y)"
   ]
  },
  {
   "cell_type": "code",
   "execution_count": null,
   "id": "c9db763c",
   "metadata": {},
   "outputs": [],
   "source": []
  },
  {
   "cell_type": "code",
   "execution_count": 52,
   "id": "9e90ea11",
   "metadata": {},
   "outputs": [],
   "source": [
    "Xtrain_loader=DataLoader(X_train,batch_size=10)\n",
    "ytrain_loader=DataLoader(y_train,batch_size=10)"
   ]
  },
  {
   "cell_type": "code",
   "execution_count": 53,
   "id": "1ca43338",
   "metadata": {},
   "outputs": [],
   "source": [
    "Xtest_loader=DataLoader(X_test,batch_size=10)\n",
    "ytest_loader=DataLoader(y_test,batch_size=10)"
   ]
  },
  {
   "cell_type": "code",
   "execution_count": 54,
   "id": "04eb9929",
   "metadata": {},
   "outputs": [],
   "source": [
    "batch_size=20\n",
    "hidden_dim=64\n",
    "lr=0.0001\n",
    "emd_dim=200"
   ]
  },
  {
   "cell_type": "code",
   "execution_count": 55,
   "id": "e4ea268e",
   "metadata": {},
   "outputs": [],
   "source": [
    "class Sarcasm_Detector(nn.Module):\n",
    "    def __init__(self):\n",
    "        super().__init__()\n",
    "        self.emb_layer = nn.Embedding(vocab_size, emd_dim)\n",
    "        #self.word_vectors = self.emb_layer(input_sent)\n",
    "        self.hidden_layout=torch.zeros(1,batch_size,hidden_dim)\n",
    "        self.rnn=nn.RNN(emd_dim,hidden_dim)\n",
    "        self.fc1=nn.Linear(64,32)\n",
    "        self.fc2=nn.Linear(32,16)\n",
    "        self.fc3=nn.Linear(16,2)\n",
    "        self.sigd=nn.ReLU()\n",
    "    def forward(self,xb):\n",
    "        X=xb.t()\n",
    "        embeds=self.emb_layer(X)\n",
    "        out,hidden_out=self.rnn(embeds)\n",
    "        \n",
    "        output=self.fc1(out[-1,:,:])\n",
    "        output=self.fc2(output)\n",
    "        output=self.fc3(output)\n",
    "        output=self.sigd(output)\n",
    "        return output"
   ]
  },
  {
   "cell_type": "code",
   "execution_count": 56,
   "id": "2a4f3807",
   "metadata": {},
   "outputs": [],
   "source": [
    "model=Sarcasm_Detector()"
   ]
  },
  {
   "cell_type": "code",
   "execution_count": 57,
   "id": "b9f3678e",
   "metadata": {},
   "outputs": [
    {
     "data": {
      "text/plain": [
       "Sarcasm_Detector(\n",
       "  (emb_layer): Embedding(9547, 200)\n",
       "  (rnn): RNN(200, 64)\n",
       "  (fc1): Linear(in_features=64, out_features=32, bias=True)\n",
       "  (fc2): Linear(in_features=32, out_features=16, bias=True)\n",
       "  (fc3): Linear(in_features=16, out_features=2, bias=True)\n",
       "  (sigd): ReLU()\n",
       ")"
      ]
     },
     "execution_count": 57,
     "metadata": {},
     "output_type": "execute_result"
    }
   ],
   "source": [
    "model"
   ]
  },
  {
   "cell_type": "code",
   "execution_count": 58,
   "id": "fffcac61",
   "metadata": {},
   "outputs": [],
   "source": [
    "def evaluate(model,Xval_loader,yval_loader):\n",
    "    loss=0\n",
    "    n=0\n",
    "    acc=0\n",
    "    for images,outputs in zip(Xval_loader,yval_loader):\n",
    "        val_preds=model(images)\n",
    "        val_los=F.cross_entropy(val_preds,outputs)\n",
    "        loss+=val_los\n",
    "        n+=1\n",
    "        _, preds = torch.max(val_preds, dim=1)\n",
    "        acc+=torch.tensor(torch.sum(preds == outputs).item() / len(preds))\n",
    "        \n",
    "    avg_loss=loss/n\n",
    "    avg_acc=acc/n\n",
    "    print(\"epoch:\",epoch+1,\"val_loss: \",avg_loss.item(),\"val_acc: \",avg_acc.item())"
   ]
  },
  {
   "cell_type": "code",
   "execution_count": 59,
   "id": "b43f3f23",
   "metadata": {},
   "outputs": [],
   "source": [
    "optimizer=optim.Adam(model.parameters(),lr)"
   ]
  },
  {
   "cell_type": "code",
   "execution_count": 60,
   "id": "6417ebb9",
   "metadata": {},
   "outputs": [],
   "source": [
    "epochs=10"
   ]
  },
  {
   "cell_type": "code",
   "execution_count": 61,
   "id": "af2cfb9a",
   "metadata": {},
   "outputs": [
    {
     "name": "stdout",
     "output_type": "stream",
     "text": [
      "epoch: 1 val_loss:  0.6368662714958191 val_acc:  0.7283331751823425\n",
      "epoch: 2 val_loss:  0.571229100227356 val_acc:  0.8100000023841858\n",
      "epoch: 3 val_loss:  0.467288076877594 val_acc:  0.8144445419311523\n",
      "epoch: 4 val_loss:  0.4225701093673706 val_acc:  0.823333203792572\n",
      "epoch: 5 val_loss:  0.41005653142929077 val_acc:  0.8211109638214111\n",
      "epoch: 6 val_loss:  0.40933364629745483 val_acc:  0.8299998641014099\n",
      "epoch: 7 val_loss:  0.40694376826286316 val_acc:  0.823333203792572\n",
      "epoch: 8 val_loss:  0.39961904287338257 val_acc:  0.832222044467926\n",
      "epoch: 9 val_loss:  0.40926921367645264 val_acc:  0.8277776837348938\n",
      "epoch: 10 val_loss:  0.41528046131134033 val_acc:  0.832222044467926\n"
     ]
    }
   ],
   "source": [
    "for epoch in range(epochs):\n",
    "    for xb,yb in zip(Xtrain_loader,ytrain_loader):\n",
    "        preds=model.forward(xb)\n",
    "        loss=F.cross_entropy(preds,yb)\n",
    "        loss.backward()\n",
    "        optimizer.step()\n",
    "        optimizer.zero_grad()\n",
    "    evaluate(model,Xtest_loader,ytest_loader)"
   ]
  },
  {
   "cell_type": "code",
   "execution_count": null,
   "id": "ada92721",
   "metadata": {},
   "outputs": [],
   "source": []
  },
  {
   "cell_type": "code",
   "execution_count": null,
   "id": "323f73e3",
   "metadata": {},
   "outputs": [],
   "source": [
    "torch.save(model.state_dict(),r\"D:\\NLP_telugu_data\\Assignment_NLP\\sarcasm_model.pth\")"
   ]
  },
  {
   "cell_type": "code",
   "execution_count": null,
   "id": "443006d5",
   "metadata": {},
   "outputs": [],
   "source": [
    "torch.save(model,r\"D:\\NLP_telugu_data\\Assignment_NLP\\sarcasm_model_entire.pth\")"
   ]
  },
  {
   "cell_type": "code",
   "execution_count": null,
   "id": "f2ba919a",
   "metadata": {},
   "outputs": [],
   "source": []
  },
  {
   "cell_type": "code",
   "execution_count": null,
   "id": "46579e71",
   "metadata": {},
   "outputs": [],
   "source": []
  },
  {
   "cell_type": "code",
   "execution_count": null,
   "id": "1191588c",
   "metadata": {},
   "outputs": [],
   "source": []
  },
  {
   "cell_type": "code",
   "execution_count": null,
   "id": "42d78c46",
   "metadata": {},
   "outputs": [],
   "source": []
  },
  {
   "cell_type": "code",
   "execution_count": null,
   "id": "f4c07107",
   "metadata": {},
   "outputs": [],
   "source": []
  },
  {
   "cell_type": "code",
   "execution_count": null,
   "id": "d512d401",
   "metadata": {},
   "outputs": [],
   "source": []
  },
  {
   "cell_type": "code",
   "execution_count": null,
   "id": "b11c385d",
   "metadata": {},
   "outputs": [],
   "source": []
  },
  {
   "cell_type": "code",
   "execution_count": null,
   "id": "258a9e95",
   "metadata": {},
   "outputs": [],
   "source": []
  },
  {
   "cell_type": "markdown",
   "id": "80ef51a5",
   "metadata": {},
   "source": [
    "# GRU"
   ]
  },
  {
   "cell_type": "code",
   "execution_count": null,
   "id": "4aa62f13",
   "metadata": {},
   "outputs": [],
   "source": []
  },
  {
   "cell_type": "code",
   "execution_count": null,
   "id": "14cfd50f",
   "metadata": {},
   "outputs": [],
   "source": []
  },
  {
   "cell_type": "code",
   "execution_count": null,
   "id": "9500daa7",
   "metadata": {},
   "outputs": [],
   "source": [
    "hidden.shape"
   ]
  },
  {
   "cell_type": "code",
   "execution_count": null,
   "id": "73de092a",
   "metadata": {},
   "outputs": [],
   "source": [
    "emb_layer = nn.Embedding(vocab_size, emd_dim)\n",
    "word_vectors = emb_layer(input_sent)\n",
    "rnn=nn.LSTM(emd_dim,64)"
   ]
  },
  {
   "cell_type": "code",
   "execution_count": null,
   "id": "9148e144",
   "metadata": {},
   "outputs": [],
   "source": [
    "word_vectors.shape"
   ]
  },
  {
   "cell_type": "code",
   "execution_count": null,
   "id": "ea99375d",
   "metadata": {},
   "outputs": [],
   "source": [
    "out,hidden_out=rnn(word_vectors)"
   ]
  },
  {
   "cell_type": "code",
   "execution_count": null,
   "id": "f3fa99b8",
   "metadata": {},
   "outputs": [],
   "source": [
    "out.shape"
   ]
  },
  {
   "cell_type": "code",
   "execution_count": null,
   "id": "88c44be9",
   "metadata": {},
   "outputs": [],
   "source": [
    "hidden_out[1].shape"
   ]
  },
  {
   "cell_type": "code",
   "execution_count": null,
   "id": "68804fba",
   "metadata": {},
   "outputs": [],
   "source": []
  },
  {
   "cell_type": "code",
   "execution_count": null,
   "id": "e14aafd7",
   "metadata": {},
   "outputs": [],
   "source": []
  },
  {
   "cell_type": "code",
   "execution_count": 82,
   "id": "005cbc10",
   "metadata": {},
   "outputs": [],
   "source": [
    "batch_size=20\n",
    "hidden_dim=64\n",
    "lr=0.0001\n",
    "emd_dim=200"
   ]
  },
  {
   "cell_type": "code",
   "execution_count": 93,
   "id": "cc69e3e5",
   "metadata": {},
   "outputs": [],
   "source": [
    "class Sarcasm_Detector_GRU(nn.Module):\n",
    "    def __init__(self):\n",
    "        super().__init__()\n",
    "        self.emb_layer = nn.Embedding(vocab_size, emd_dim)\n",
    "        self.hidden_layout=torch.zeros(1,batch_size,hidden_dim)\n",
    "        self.rnn=nn.GRU(emd_dim,hidden_dim)\n",
    "        self.fc1=nn.Linear(hidden_dim,32)\n",
    "        self.fc2=nn.Linear(32,16)\n",
    "        self.fc3=nn.Linear(16,2)\n",
    "        self.sigd=nn.ReLU()\n",
    "    def forward(self,xb):\n",
    "        X=xb.t()\n",
    "        embeds=self.emb_layer(X)\n",
    "        out,hidden_out=self.rnn(embeds)\n",
    "        output=out[-1,:,:]\n",
    "        output=self.fc1(output)\n",
    "        output=self.fc2(output)\n",
    "        output=self.fc3(output)\n",
    "        output=self.sigd(output)\n",
    "        return output"
   ]
  },
  {
   "cell_type": "code",
   "execution_count": 94,
   "id": "907de773",
   "metadata": {},
   "outputs": [],
   "source": [
    "model_GRU=Sarcasm_Detector_GRU()"
   ]
  },
  {
   "cell_type": "code",
   "execution_count": 95,
   "id": "28995640",
   "metadata": {},
   "outputs": [
    {
     "data": {
      "text/plain": [
       "Sarcasm_Detector_GRU(\n",
       "  (emb_layer): Embedding(9547, 200)\n",
       "  (rnn): GRU(200, 64)\n",
       "  (fc1): Linear(in_features=64, out_features=32, bias=True)\n",
       "  (fc2): Linear(in_features=32, out_features=16, bias=True)\n",
       "  (fc3): Linear(in_features=16, out_features=2, bias=True)\n",
       "  (sigd): ReLU()\n",
       ")"
      ]
     },
     "execution_count": 95,
     "metadata": {},
     "output_type": "execute_result"
    }
   ],
   "source": [
    "model_GRU"
   ]
  },
  {
   "cell_type": "code",
   "execution_count": null,
   "id": "510f7bf9",
   "metadata": {},
   "outputs": [],
   "source": []
  },
  {
   "cell_type": "code",
   "execution_count": 96,
   "id": "7dadaea1",
   "metadata": {},
   "outputs": [],
   "source": [
    "optimizer_GRU=optim.Adam(model_GRU.parameters(),lr)"
   ]
  },
  {
   "cell_type": "code",
   "execution_count": 97,
   "id": "8059ba7a",
   "metadata": {},
   "outputs": [],
   "source": [
    "epochs=10"
   ]
  },
  {
   "cell_type": "code",
   "execution_count": 98,
   "id": "a4faf2c3",
   "metadata": {},
   "outputs": [
    {
     "name": "stdout",
     "output_type": "stream",
     "text": [
      "epoch: 1 val_loss:  0.727958083152771 val_acc:  0.2827777862548828\n",
      "epoch: 2 val_loss:  0.6283553838729858 val_acc:  0.6966666579246521\n",
      "epoch: 3 val_loss:  0.4773036539554596 val_acc:  0.8350000977516174\n",
      "epoch: 4 val_loss:  0.3820696175098419 val_acc:  0.8394445776939392\n",
      "epoch: 5 val_loss:  0.33872902393341064 val_acc:  0.8661110997200012\n",
      "epoch: 6 val_loss:  0.3195364773273468 val_acc:  0.8905555605888367\n",
      "epoch: 7 val_loss:  0.31059786677360535 val_acc:  0.8949999213218689\n",
      "epoch: 8 val_loss:  0.3099302053451538 val_acc:  0.8950000405311584\n",
      "epoch: 9 val_loss:  0.317277729511261 val_acc:  0.8927777409553528\n",
      "epoch: 10 val_loss:  0.32530972361564636 val_acc:  0.8816666603088379\n"
     ]
    }
   ],
   "source": [
    "for epoch in range(epochs):\n",
    "    for xb,yb in zip(Xtrain_loader,ytrain_loader):\n",
    "        preds=model_GRU.forward(xb)\n",
    "        loss=F.cross_entropy(preds,yb)\n",
    "        loss.backward()\n",
    "        optimizer_GRU.step()\n",
    "        optimizer_GRU.zero_grad()\n",
    "    evaluate(model_GRU,Xtest_loader,ytest_loader)"
   ]
  },
  {
   "cell_type": "code",
   "execution_count": 99,
   "id": "5e66743d",
   "metadata": {},
   "outputs": [],
   "source": [
    "torch.save(model_GRU.state_dict(),r\"D:\\NLP_telugu_data\\Assignment_NLP\\sarcasm_model_GRU.pth\")"
   ]
  },
  {
   "cell_type": "code",
   "execution_count": 100,
   "id": "cad94470",
   "metadata": {},
   "outputs": [],
   "source": [
    "torch.save(model_GRU,r\"D:\\NLP_telugu_data\\Assignment_NLP\\sarcasm_model_GRU_FULL.pth\")"
   ]
  },
  {
   "cell_type": "code",
   "execution_count": null,
   "id": "1a41efc7",
   "metadata": {},
   "outputs": [],
   "source": []
  },
  {
   "cell_type": "markdown",
   "id": "2b45462b",
   "metadata": {},
   "source": [
    "# LSTM"
   ]
  },
  {
   "cell_type": "code",
   "execution_count": null,
   "id": "f150c611",
   "metadata": {},
   "outputs": [],
   "source": []
  },
  {
   "cell_type": "code",
   "execution_count": null,
   "id": "7b3de80b",
   "metadata": {},
   "outputs": [],
   "source": []
  },
  {
   "cell_type": "code",
   "execution_count": 290,
   "id": "b9c14992",
   "metadata": {},
   "outputs": [],
   "source": [
    "batch_size=10\n",
    "hidden_dim=64\n",
    "lr=0.0001\n",
    "emd_dim=100"
   ]
  },
  {
   "cell_type": "code",
   "execution_count": 291,
   "id": "25134481",
   "metadata": {},
   "outputs": [],
   "source": [
    "class Sarcasm_Detector_LSTM(nn.Module):\n",
    "    def __init__(self):\n",
    "        super().__init__()\n",
    "        self.emb_layer = nn.Embedding(vocab_size, emd_dim)\n",
    "        self.hidden_layout=torch.zeros(1,batch_size,hidden_dim)\n",
    "        self.rnn=nn.LSTM(emd_dim,hidden_dim)\n",
    "        self.fc1=nn.Linear(hidden_dim,32)\n",
    "        #self.dropout=nn.Dropout(0.2)\n",
    "        self.fc2=nn.Linear(32,16)\n",
    "        self.fc3=nn.Linear(16,2)\n",
    "        self.sigd=nn.ReLU()\n",
    "    def forward(self,xb):\n",
    "        X=xb.t()\n",
    "        embeds=self.emb_layer(X)\n",
    "        out,hidden_out=self.rnn(embeds)\n",
    "        output=out[-1,:,:]\n",
    "        output=self.fc1(output)\n",
    "        output=self.fc2(output)\n",
    "        output=self.fc3(output)\n",
    "        output=self.sigd(output)\n",
    "        return output"
   ]
  },
  {
   "cell_type": "code",
   "execution_count": 292,
   "id": "ea85874e",
   "metadata": {},
   "outputs": [],
   "source": [
    "model_LSTM=Sarcasm_Detector_LSTM()"
   ]
  },
  {
   "cell_type": "code",
   "execution_count": 293,
   "id": "daa30131",
   "metadata": {},
   "outputs": [
    {
     "data": {
      "text/plain": [
       "Sarcasm_Detector_LSTM(\n",
       "  (emb_layer): Embedding(9547, 100)\n",
       "  (rnn): LSTM(100, 64)\n",
       "  (fc1): Linear(in_features=64, out_features=32, bias=True)\n",
       "  (fc2): Linear(in_features=32, out_features=16, bias=True)\n",
       "  (fc3): Linear(in_features=16, out_features=2, bias=True)\n",
       "  (sigd): ReLU()\n",
       ")"
      ]
     },
     "execution_count": 293,
     "metadata": {},
     "output_type": "execute_result"
    }
   ],
   "source": [
    "model_LSTM"
   ]
  },
  {
   "cell_type": "code",
   "execution_count": 294,
   "id": "28f33a8d",
   "metadata": {},
   "outputs": [],
   "source": [
    "optimizer_LSTM=optim.Adam(model_LSTM.parameters(),lr)"
   ]
  },
  {
   "cell_type": "code",
   "execution_count": 295,
   "id": "99852500",
   "metadata": {},
   "outputs": [],
   "source": [
    "epochs=10"
   ]
  },
  {
   "cell_type": "code",
   "execution_count": 296,
   "id": "3a08241f",
   "metadata": {},
   "outputs": [
    {
     "name": "stdout",
     "output_type": "stream",
     "text": [
      "epoch: 1 val_loss:  0.5988768935203552 val_acc:  0.8122221827507019\n",
      "epoch: 2 val_loss:  0.5289404392242432 val_acc:  0.8166667222976685\n",
      "epoch: 3 val_loss:  0.40678444504737854 val_acc:  0.8305556178092957\n",
      "epoch: 4 val_loss:  0.37384578585624695 val_acc:  0.8416666388511658\n",
      "epoch: 5 val_loss:  0.3448254466056824 val_acc:  0.8505554795265198\n",
      "epoch: 6 val_loss:  0.33886635303497314 val_acc:  0.8594444394111633\n",
      "epoch: 7 val_loss:  0.33243539929389954 val_acc:  0.8772222995758057\n",
      "epoch: 8 val_loss:  0.33255448937416077 val_acc:  0.8772221803665161\n",
      "epoch: 9 val_loss:  0.33997586369514465 val_acc:  0.8794444799423218\n",
      "epoch: 10 val_loss:  0.3519827425479889 val_acc:  0.8816665410995483\n"
     ]
    }
   ],
   "source": [
    "for epoch in range(epochs):\n",
    "    for xb,yb in zip(Xtrain_loader,ytrain_loader):\n",
    "        preds=model_LSTM.forward(xb)\n",
    "        loss=F.cross_entropy(preds,yb)\n",
    "        loss.backward()\n",
    "        optimizer_LSTM.step()\n",
    "        optimizer_LSTM.zero_grad()\n",
    "    evaluate(model_LSTM,Xtest_loader,ytest_loader)"
   ]
  },
  {
   "cell_type": "code",
   "execution_count": 297,
   "id": "a19e795e",
   "metadata": {},
   "outputs": [],
   "source": [
    "torch.save(model_LSTM.state_dict(),r\"D:\\NLP_telugu_data\\Assignment_NLP\\sarcasm_model_LSTM.pth\")"
   ]
  },
  {
   "cell_type": "code",
   "execution_count": 298,
   "id": "5430d25f",
   "metadata": {},
   "outputs": [],
   "source": [
    "torch.save(model_LSTM,r\"D:\\NLP_telugu_data\\Assignment_NLP\\sarcasm_model_LSTM_FULL.pth\")"
   ]
  },
  {
   "cell_type": "code",
   "execution_count": null,
   "id": "4ab608e0",
   "metadata": {},
   "outputs": [],
   "source": []
  }
 ],
 "metadata": {
  "kernelspec": {
   "display_name": "Python 3",
   "language": "python",
   "name": "python3"
  },
  "language_info": {
   "codemirror_mode": {
    "name": "ipython",
    "version": 3
   },
   "file_extension": ".py",
   "mimetype": "text/x-python",
   "name": "python",
   "nbconvert_exporter": "python",
   "pygments_lexer": "ipython3",
   "version": "3.8.8"
  }
 },
 "nbformat": 4,
 "nbformat_minor": 5
}
